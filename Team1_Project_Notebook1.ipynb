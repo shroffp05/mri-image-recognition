{
  "cells": [
    {
      "cell_type": "markdown",
      "metadata": {
        "colab_type": "text",
        "id": "view-in-github"
      },
      "source": [
        "<a href=\"https://colab.research.google.com/github/shroffp05/msca-37011-deep-learning/blob/main/Team1_Project_Notebook1.ipynb\" target=\"_parent\"><img src=\"https://colab.research.google.com/assets/colab-badge.svg\" alt=\"Open In Colab\"/></a>"
      ]
    },
    {
      "cell_type": "code",
      "execution_count": null,
      "metadata": {
        "colab": {
          "base_uri": "https://localhost:8080/"
        },
        "id": "kNNPNptq_Jrr",
        "outputId": "dbf80495-80f6-43c4-cb98-6124cad92000"
      },
      "outputs": [
        {
          "name": "stdout",
          "output_type": "stream",
          "text": [
            "Mounted at /content/drive\n"
          ]
        }
      ],
      "source": [
        "from google.colab import drive\n",
        "drive.mount('/content/drive')"
      ]
    },
    {
      "cell_type": "code",
      "execution_count": null,
      "metadata": {
        "colab": {
          "base_uri": "https://localhost:8080/"
        },
        "id": "p3qcLq20_NwE",
        "outputId": "120b967a-fd7e-441f-f9a7-4bd8e0890436"
      },
      "outputs": [
        {
          "name": "stdout",
          "output_type": "stream",
          "text": [
            "/content/drive/My Drive/Deep Learning/Dataset\n"
          ]
        }
      ],
      "source": [
        "%cd /content/drive/My\\ Drive/Deep\\ Learning/Dataset"
      ]
    },
    {
      "cell_type": "code",
      "execution_count": null,
      "metadata": {
        "colab": {
          "base_uri": "https://localhost:8080/"
        },
        "id": "c-HUrYUD_w_M",
        "outputId": "5cf44334-2704-4482-a813-c6301fffe53a"
      },
      "outputs": [
        {
          "name": "stdout",
          "output_type": "stream",
          "text": [
            "best_model22.h5      best_model_eff.h5         labels.pkl\n",
            "best_model2.h5       best_model.h5             \u001b[0m\u001b[01;34mMild_Demented\u001b[0m/\n",
            "best_model_aug22.h5  best_model_resnet50.h5    \u001b[01;34mModerate_Demented\u001b[0m/\n",
            "best_model_aug23.h5  best_model_vgg16_aug2.h5  \u001b[01;34mNon_Demented\u001b[0m/\n",
            "best_model_aug2.h5   best_model_vgg16_aug.h5   \u001b[01;34mVery_Mild_Demented\u001b[0m/\n",
            "best_model_aug.h5    best_model_vgg16.h5\n"
          ]
        }
      ],
      "source": [
        "%ls"
      ]
    },
    {
      "cell_type": "code",
      "execution_count": null,
      "metadata": {
        "id": "b7CrXKhOAR1G"
      },
      "outputs": [],
      "source": [
        "# Import important libraries\n",
        "import pandas as pd\n",
        "import numpy as np\n",
        "import matplotlib.pyplot as plt\n",
        "import skimage\n",
        "from skimage import io\n",
        "import os\n",
        "import tensorflow as tf\n",
        "from tensorflow import keras\n",
        "from keras.layers import Dense, Input, InputLayer, Flatten, Conv2D, MaxPooling2D, Dropout, BatchNormalization\n",
        "from keras.models import Sequential, Model\n",
        "from tensorflow.keras.callbacks import EarlyStopping, ModelCheckpoint, TensorBoard\n",
        "from  matplotlib import pyplot as plt\n",
        "import matplotlib.image as mpimg\n",
        "from keras import backend as K\n",
        "from keras import applications\n",
        "import cv2\n",
        "\n",
        "\n",
        "import imgaug as ia\n",
        "import imgaug.augmenters as iaa\n",
        "%matplotlib inline"
      ]
    },
    {
      "cell_type": "code",
      "execution_count": null,
      "metadata": {
        "id": "n6tspHpcJW-s"
      },
      "outputs": [],
      "source": [
        "classes = ['Mild_Demented', 'Moderate_Demented', 'Non_Demented', 'Very_Mild_Demented']\n",
        "num_classes = 4"
      ]
    },
    {
      "cell_type": "code",
      "execution_count": null,
      "metadata": {
        "id": "xwyqypxWmlAJ"
      },
      "outputs": [],
      "source": [
        "IMG_WIDTH=128\n",
        "IMG_HEIGHT=128"
      ]
    },
    {
      "cell_type": "code",
      "execution_count": null,
      "metadata": {
        "id": "lCg2rl5wKA9B"
      },
      "outputs": [],
      "source": [
        "## Create the dataset\n",
        "\n",
        "def create_dataset():\n",
        "   \n",
        "    img_data_array=[]\n",
        "    class_name=[]\n",
        "   \n",
        "    for dir1 in classes:\n",
        "        for file in os.listdir(os.path.join(dir1)):\n",
        "            image_path= os.path.join(dir1,  file)\n",
        "            image= cv2.imread(image_path, cv2.COLOR_BGR2RGB)\n",
        "            image=cv2.resize(image, (IMG_HEIGHT, IMG_WIDTH),interpolation = cv2.INTER_AREA)\n",
        "            image=np.array(image)\n",
        "            image = image.astype('float32')\n",
        "            image /= 255 \n",
        "            img_data_array.append(image)\n",
        "            class_name.append(dir1)\n",
        "    return img_data_array, class_name\n",
        "# extract the image array and class name\n",
        "img_data, class_name = create_dataset()"
      ]
    },
    {
      "cell_type": "code",
      "execution_count": null,
      "metadata": {
        "id": "Trbb_ZYLHY6Y"
      },
      "outputs": [],
      "source": [
        "## Image class subsets\n",
        "\n",
        "mild_demented_images = img_data[:897]\n",
        "moderate_demented_images = img_data[897:961]\n",
        "non_demented_images = img_data[961:4161]\n",
        "very_mild_demented_images = img_data[4161:6401]\n",
        "\n",
        "label_mild_demented = class_name[:897]\n",
        "label_moderate_demented = class_name[:961]\n",
        "label_non_demented = class_name[:4161]\n",
        "label_very_mild_demented = class_name[:6401]"
      ]
    },
    {
      "cell_type": "code",
      "execution_count": null,
      "metadata": {
        "id": "gfcAxh14He4K"
      },
      "outputs": [],
      "source": [
        "## Augment the dataset with transformed images\n",
        "seq = iaa.Sequential([\n",
        "    # random crops\n",
        "    iaa.Crop(percent=(0, 0.1)),\n",
        "    # Small gaussian blur with random sigma between 0 and 0.5.\n",
        "    # But we only blur about 50% of all images.\n",
        "    iaa.Sometimes(\n",
        "        0.5,\n",
        "        iaa.GaussianBlur(sigma=(0, 0.5))\n",
        "    ),\n",
        "    # Strengthen or weaken the contrast in each image.\n",
        "    iaa.LinearContrast((0.75, 1.5)),\n",
        "    # Add gaussian noise.\n",
        "    # For 50% of all images, we sample the noise once per pixel.\n",
        "    # For the other 50% of all images, we sample the noise per pixel AND\n",
        "    # channel. This can change the color (not only brightness) of the\n",
        "    # pixels.\n",
        "    iaa.AdditiveGaussianNoise(loc=0, scale=(0.0, 0.0001*255), per_channel=0.5),\n",
        "], random_order=True) # apply augmenters in random order          "
      ]
    },
    {
      "cell_type": "code",
      "execution_count": null,
      "metadata": {
        "id": "hw-4GndvHhvU"
      },
      "outputs": [],
      "source": [
        "## Augment mild demented images\n",
        "images_aug_mild_demented = [seq(images=mild_demented_images) for i in range(3)]\n",
        "images_aug_mild_demented_1 = []\n",
        "for i in range(len(images_aug_mild_demented)):\n",
        "  for j in range(len(images_aug_mild_demented[i])):\n",
        "    images_aug_mild_demented_1.append(images_aug_mild_demented[i][j])"
      ]
    },
    {
      "cell_type": "code",
      "execution_count": null,
      "metadata": {
        "id": "jjnlJWUoHl_V"
      },
      "outputs": [],
      "source": [
        "## Augment moderate demented images\n",
        "images_aug_moderate_demented = [seq(images=moderate_demented_images) for i in range(49)]\n",
        "images_aug_moderate_demented_1 = []\n",
        "for i in range(len(images_aug_moderate_demented)):\n",
        "  for j in range(len(images_aug_moderate_demented[i])):\n",
        "    images_aug_moderate_demented_1.append(images_aug_moderate_demented[i][j])"
      ]
    },
    {
      "cell_type": "code",
      "execution_count": null,
      "metadata": {
        "id": "8fldqB12Hn8t"
      },
      "outputs": [],
      "source": [
        "## Augment very mild demented images\n",
        "images_aug_very_mild_demented_1 = seq(images=very_mild_demented_images)"
      ]
    },
    {
      "cell_type": "code",
      "execution_count": null,
      "metadata": {
        "id": "x5ow3Wb6HqeU"
      },
      "outputs": [],
      "source": [
        "## Get balanced classes\n",
        "\n",
        "mild_demented_images = mild_demented_images + images_aug_mild_demented_1\n",
        "moderate_demented_images = moderate_demented_images + images_aug_moderate_demented_1\n",
        "very_mild_demented_images = very_mild_demented_images + images_aug_very_mild_demented_1\n",
        "\n",
        "mild_demented_images = mild_demented_images[:3200]\n",
        "very_mild_demented_images = very_mild_demented_images[:3200]\n",
        "\n",
        "## Obtain the final balanced dataset\n",
        "images_final_data = (\n",
        "    mild_demented_images + \n",
        "    moderate_demented_images + \n",
        "    non_demented_images + \n",
        "    very_mild_demented_images\n",
        ")"
      ]
    },
    {
      "cell_type": "code",
      "execution_count": null,
      "metadata": {
        "id": "4Sv_ROkrF414"
      },
      "outputs": [],
      "source": [
        "## Get class labels\n",
        "labels_data = []\n",
        "for i in class_name:\n",
        "  if i == 'Mild_Demented':\n",
        "    labels_data.append(1)\n",
        "  elif i == 'Moderate_Demented':\n",
        "    labels_data.append(2)\n",
        "  elif i == 'Non_Demented':\n",
        "    labels_data.append(3)\n",
        "  else:\n",
        "    labels_data.append(0)"
      ]
    },
    {
      "cell_type": "code",
      "execution_count": null,
      "metadata": {
        "id": "49dl5KDMn-gK"
      },
      "outputs": [],
      "source": [
        "## Split the dataset into train and test\n",
        "from sklearn.model_selection import train_test_split\n",
        "X_train, X_test, y_train, y_test = (\n",
        "    train_test_split(np.array(images_final_data, np.float32), \n",
        "    np.array(labels_data, np.float32), test_size=0.3)\n",
        ")"
      ]
    },
    {
      "cell_type": "code",
      "execution_count": null,
      "metadata": {
        "colab": {
          "base_uri": "https://localhost:8080/"
        },
        "id": "ilALNmnz1qbi",
        "outputId": "9a579bb6-3838-473f-9ad1-54a99d88d5bf"
      },
      "outputs": [
        {
          "name": "stdout",
          "output_type": "stream",
          "text": [
            "x_train shape: (8960, 128, 128, 1)\n",
            "8960 train samples\n",
            "3840 test samples\n",
            "y_train shape: (8960, 4)\n",
            "y_test shape: (3840, 4)\n"
          ]
        }
      ],
      "source": [
        "## Preprocess data for the moel\n",
        "\n",
        "if K.image_data_format() == 'channels_first':\n",
        "    X_train = X_train.reshape(X_train.shape[0], 1, 128, 128)\n",
        "    X_test = X_test.reshape(np.array(X_test).shape[0], 1, 128, 128)\n",
        "    input_shape = (1, 128, 128)\n",
        "else:\n",
        "    X_train = X_train.reshape(X_train.shape[0], 128, 128, 1)\n",
        "    X_test = X_test.reshape(X_test.shape[0], 128, 128, 1)\n",
        "    input_shape = (128, 128, 1)\n",
        "\n",
        "X_train = X_train.astype('float32')\n",
        "X_test = X_test.astype('float32')\n",
        "X_train /= 255\n",
        "X_test /= 255\n",
        "print('x_train shape:', X_train.shape)\n",
        "print(X_train.shape[0], 'train samples')\n",
        "print(X_test.shape[0], 'test samples')\n",
        "\n",
        "# convert class vectors to binary class matrices\n",
        "y_train = keras.utils.to_categorical(y_train, num_classes)\n",
        "y_test = keras.utils.to_categorical(y_test, num_classes)\n",
        "\n",
        "print('y_train shape:', y_train.shape)\n",
        "print('y_test shape:', y_test.shape)"
      ]
    },
    {
      "cell_type": "markdown",
      "metadata": {
        "id": "ctw0Fty-4dlf"
      },
      "source": [
        "Our Model"
      ]
    },
    {
      "cell_type": "code",
      "execution_count": null,
      "metadata": {
        "id": "dgiv1S7FK5Y7"
      },
      "outputs": [],
      "source": [
        "model2 = keras.models.Sequential()\n",
        "model2.add(keras.layers.Conv2D(filters=16,kernel_size=(3,3),padding='same', activation='relu', input_shape=(IMG_HEIGHT,IMG_WIDTH, 1)))\n",
        "model2.add(keras.layers.MaxPooling2D(pool_size=(2,2)))\n",
        "\n",
        "model2.add(keras.layers.Conv2D(filters=32,kernel_size=(3,3),padding='same',activation='relu',kernel_initializer=\"he_normal\"))\n",
        "model2.add(keras.layers.MaxPooling2D(pool_size=(2,2)))\n",
        "\n",
        "model2.add(keras.layers.Dropout(0.25))\n",
        "model2.add(keras.layers.Flatten())\n",
        "model2.add(keras.layers.Dense(64,\"relu\"))\n",
        "model2.add(keras.layers.Dense(4,\"softmax\"))"
      ]
    },
    {
      "cell_type": "code",
      "execution_count": null,
      "metadata": {
        "colab": {
          "base_uri": "https://localhost:8080/"
        },
        "id": "IlpktyR5LTnX",
        "outputId": "90b3517a-6d16-4200-ee6c-bc41ba183fe7"
      },
      "outputs": [
        {
          "name": "stdout",
          "output_type": "stream",
          "text": [
            "Model: \"sequential\"\n",
            "_________________________________________________________________\n",
            " Layer (type)                Output Shape              Param #   \n",
            "=================================================================\n",
            " conv2d (Conv2D)             (None, 128, 128, 16)      160       \n",
            "                                                                 \n",
            " max_pooling2d (MaxPooling2D  (None, 64, 64, 16)       0         \n",
            " )                                                               \n",
            "                                                                 \n",
            " conv2d_1 (Conv2D)           (None, 64, 64, 32)        4640      \n",
            "                                                                 \n",
            " max_pooling2d_1 (MaxPooling  (None, 32, 32, 32)       0         \n",
            " 2D)                                                             \n",
            "                                                                 \n",
            " dropout (Dropout)           (None, 32, 32, 32)        0         \n",
            "                                                                 \n",
            " flatten (Flatten)           (None, 32768)             0         \n",
            "                                                                 \n",
            " dense (Dense)               (None, 64)                2097216   \n",
            "                                                                 \n",
            " dense_1 (Dense)             (None, 4)                 260       \n",
            "                                                                 \n",
            "=================================================================\n",
            "Total params: 2,102,276\n",
            "Trainable params: 2,102,276\n",
            "Non-trainable params: 0\n",
            "_________________________________________________________________\n"
          ]
        }
      ],
      "source": [
        "model2.summary()"
      ]
    },
    {
      "cell_type": "code",
      "execution_count": null,
      "metadata": {
        "id": "hPim21WVK5Uy"
      },
      "outputs": [],
      "source": [
        "model2.compile(loss=\"categorical_crossentropy\",\n",
        "              optimizer = \"Adam\",metrics=[\"accuracy\"])"
      ]
    },
    {
      "cell_type": "code",
      "execution_count": null,
      "metadata": {
        "colab": {
          "base_uri": "https://localhost:8080/"
        },
        "id": "0IMRt7E1K4-a",
        "outputId": "56863f4f-b9cc-4294-9731-5ba6f17639fd"
      },
      "outputs": [
        {
          "name": "stdout",
          "output_type": "stream",
          "text": [
            "Epoch 1/100\n",
            "280/280 [==============================] - 15s 14ms/step - loss: 1.1887 - accuracy: 0.4162 - val_loss: 1.0301 - val_accuracy: 0.4953\n",
            "Epoch 2/100\n",
            "280/280 [==============================] - 4s 13ms/step - loss: 1.0108 - accuracy: 0.4967 - val_loss: 0.9950 - val_accuracy: 0.5042\n",
            "Epoch 3/100\n",
            "280/280 [==============================] - 4s 13ms/step - loss: 0.9764 - accuracy: 0.5189 - val_loss: 0.9607 - val_accuracy: 0.5156\n",
            "Epoch 4/100\n",
            "280/280 [==============================] - 4s 13ms/step - loss: 0.9418 - accuracy: 0.5357 - val_loss: 0.9376 - val_accuracy: 0.5388\n",
            "Epoch 5/100\n",
            "280/280 [==============================] - 4s 13ms/step - loss: 0.8796 - accuracy: 0.5935 - val_loss: 0.8476 - val_accuracy: 0.6185\n",
            "Epoch 6/100\n",
            "280/280 [==============================] - 4s 13ms/step - loss: 0.8135 - accuracy: 0.6337 - val_loss: 0.7763 - val_accuracy: 0.6263\n",
            "Epoch 7/100\n",
            "280/280 [==============================] - 4s 13ms/step - loss: 0.7513 - accuracy: 0.6587 - val_loss: 0.7295 - val_accuracy: 0.6565\n",
            "Epoch 8/100\n",
            "280/280 [==============================] - 4s 13ms/step - loss: 0.7221 - accuracy: 0.6771 - val_loss: 0.6887 - val_accuracy: 0.6841\n",
            "Epoch 9/100\n",
            "280/280 [==============================] - 4s 14ms/step - loss: 0.6982 - accuracy: 0.6879 - val_loss: 0.6686 - val_accuracy: 0.6995\n",
            "Epoch 10/100\n",
            "280/280 [==============================] - 4s 14ms/step - loss: 0.6854 - accuracy: 0.6905 - val_loss: 0.6441 - val_accuracy: 0.7016\n",
            "Epoch 11/100\n",
            "280/280 [==============================] - 4s 13ms/step - loss: 0.6756 - accuracy: 0.6959 - val_loss: 0.6766 - val_accuracy: 0.6880\n",
            "Epoch 12/100\n",
            "280/280 [==============================] - 4s 13ms/step - loss: 0.6678 - accuracy: 0.7009 - val_loss: 0.6376 - val_accuracy: 0.6969\n",
            "Epoch 13/100\n",
            "280/280 [==============================] - 4s 13ms/step - loss: 0.6542 - accuracy: 0.7063 - val_loss: 0.6298 - val_accuracy: 0.7081\n",
            "Epoch 14/100\n",
            "280/280 [==============================] - 4s 13ms/step - loss: 0.6404 - accuracy: 0.7133 - val_loss: 0.6484 - val_accuracy: 0.7083\n",
            "Epoch 15/100\n",
            "280/280 [==============================] - 4s 13ms/step - loss: 0.6290 - accuracy: 0.7108 - val_loss: 0.6770 - val_accuracy: 0.6896\n",
            "Epoch 16/100\n",
            "280/280 [==============================] - 4s 14ms/step - loss: 0.6230 - accuracy: 0.7265 - val_loss: 0.6230 - val_accuracy: 0.7151\n",
            "Epoch 17/100\n",
            "280/280 [==============================] - 4s 13ms/step - loss: 0.6193 - accuracy: 0.7238 - val_loss: 0.5995 - val_accuracy: 0.7266\n",
            "Epoch 18/100\n",
            "280/280 [==============================] - 4s 13ms/step - loss: 0.6145 - accuracy: 0.7248 - val_loss: 0.6059 - val_accuracy: 0.7242\n",
            "Epoch 19/100\n",
            "280/280 [==============================] - 4s 13ms/step - loss: 0.6023 - accuracy: 0.7310 - val_loss: 0.6555 - val_accuracy: 0.7073\n",
            "Epoch 20/100\n",
            "280/280 [==============================] - 4s 13ms/step - loss: 0.6038 - accuracy: 0.7308 - val_loss: 0.6203 - val_accuracy: 0.7055\n",
            "Epoch 21/100\n",
            "280/280 [==============================] - 4s 13ms/step - loss: 0.5966 - accuracy: 0.7323 - val_loss: 0.6475 - val_accuracy: 0.6964\n",
            "Epoch 22/100\n",
            "280/280 [==============================] - 4s 15ms/step - loss: 0.5917 - accuracy: 0.7388 - val_loss: 0.5908 - val_accuracy: 0.7240\n",
            "Epoch 23/100\n",
            "280/280 [==============================] - 4s 13ms/step - loss: 0.5870 - accuracy: 0.7412 - val_loss: 0.6157 - val_accuracy: 0.7198\n",
            "Epoch 24/100\n",
            "280/280 [==============================] - 4s 13ms/step - loss: 0.5789 - accuracy: 0.7401 - val_loss: 0.6504 - val_accuracy: 0.6966\n",
            "Epoch 25/100\n",
            "280/280 [==============================] - 4s 14ms/step - loss: 0.5772 - accuracy: 0.7436 - val_loss: 0.5661 - val_accuracy: 0.7492\n",
            "Epoch 26/100\n",
            "280/280 [==============================] - 4s 13ms/step - loss: 0.5700 - accuracy: 0.7444 - val_loss: 0.5807 - val_accuracy: 0.7312\n",
            "Epoch 27/100\n",
            "280/280 [==============================] - 4s 13ms/step - loss: 0.5585 - accuracy: 0.7490 - val_loss: 0.6722 - val_accuracy: 0.6758\n",
            "Epoch 28/100\n",
            "280/280 [==============================] - 4s 13ms/step - loss: 0.5531 - accuracy: 0.7567 - val_loss: 0.5885 - val_accuracy: 0.7315\n",
            "Epoch 29/100\n",
            "280/280 [==============================] - 4s 15ms/step - loss: 0.5552 - accuracy: 0.7536 - val_loss: 0.5600 - val_accuracy: 0.7523\n",
            "Epoch 30/100\n",
            "280/280 [==============================] - 4s 13ms/step - loss: 0.5543 - accuracy: 0.7570 - val_loss: 0.5536 - val_accuracy: 0.7609\n",
            "Epoch 31/100\n",
            "280/280 [==============================] - 4s 13ms/step - loss: 0.5423 - accuracy: 0.7602 - val_loss: 0.5586 - val_accuracy: 0.7440\n",
            "Epoch 32/100\n",
            "280/280 [==============================] - 4s 13ms/step - loss: 0.5391 - accuracy: 0.7667 - val_loss: 0.5643 - val_accuracy: 0.7422\n",
            "Epoch 33/100\n",
            "280/280 [==============================] - 4s 13ms/step - loss: 0.5430 - accuracy: 0.7615 - val_loss: 0.5595 - val_accuracy: 0.7453\n",
            "Epoch 34/100\n",
            "280/280 [==============================] - 4s 14ms/step - loss: 0.5284 - accuracy: 0.7607 - val_loss: 0.5434 - val_accuracy: 0.7602\n",
            "Epoch 35/100\n",
            "280/280 [==============================] - 4s 13ms/step - loss: 0.5324 - accuracy: 0.7617 - val_loss: 0.5366 - val_accuracy: 0.7602\n",
            "Epoch 36/100\n",
            "280/280 [==============================] - 4s 13ms/step - loss: 0.5216 - accuracy: 0.7730 - val_loss: 0.5484 - val_accuracy: 0.7500\n",
            "Epoch 37/100\n",
            "280/280 [==============================] - 4s 13ms/step - loss: 0.5255 - accuracy: 0.7679 - val_loss: 0.5403 - val_accuracy: 0.7630\n",
            "Epoch 38/100\n",
            "280/280 [==============================] - 4s 13ms/step - loss: 0.5240 - accuracy: 0.7665 - val_loss: 0.5515 - val_accuracy: 0.7539\n",
            "Epoch 39/100\n",
            "280/280 [==============================] - 4s 13ms/step - loss: 0.5220 - accuracy: 0.7729 - val_loss: 0.5408 - val_accuracy: 0.7612\n",
            "Epoch 40/100\n",
            "280/280 [==============================] - 4s 13ms/step - loss: 0.5099 - accuracy: 0.7761 - val_loss: 0.5437 - val_accuracy: 0.7505\n",
            "Epoch 40: early stopping\n"
          ]
        }
      ],
      "source": [
        "checkpoint_path = 'best_model_aug.h5'\n",
        "chp = keras.callbacks.ModelCheckpoint(checkpoint_path, save_best_only=True)\n",
        "es = EarlyStopping(monitor='val_loss', mode='min', verbose=1, patience=5)\n",
        "hist = model2.fit(np.array(X_train), np.array(y_train),validation_data=(np.array(X_test), np.array(y_test)),epochs=100, batch_size=32, verbose=1, callbacks=[chp, es])"
      ]
    },
    {
      "cell_type": "code",
      "execution_count": null,
      "metadata": {
        "colab": {
          "base_uri": "https://localhost:8080/"
        },
        "id": "cdHuvRMzLBFa",
        "outputId": "5332b08e-1cc3-4e87-84b9-231a4bb31de0"
      },
      "outputs": [
        {
          "name": "stdout",
          "output_type": "stream",
          "text": [
            "120/120 [==============================] - 1s 6ms/step - loss: 0.5437 - accuracy: 0.7505\n"
          ]
        }
      ],
      "source": [
        "loss, accuracy = model2.evaluate(X_test, y_test)"
      ]
    },
    {
      "cell_type": "code",
      "execution_count": null,
      "metadata": {
        "colab": {
          "base_uri": "https://localhost:8080/",
          "height": 428
        },
        "id": "0euEY2sTI1pE",
        "outputId": "a520d9d8-b9a6-4f04-8e91-d004ca9343fe"
      },
      "outputs": [
        {
          "data": {
            "text/plain": [
              "Text(0.5, 1.0, 'Loss Curves')"
            ]
          },
          "execution_count": 32,
          "metadata": {},
          "output_type": "execute_result"
        },
        {
          "data": {
            "image/png": "[encoded data removed]",
            "text/plain": [
              "<Figure size 576x432 with 1 Axes>"
            ]
          },
          "metadata": {
            "needs_background": "light"
          },
          "output_type": "display_data"
        }
      ],
      "source": [
        "plt.figure(figsize=[8,6])\n",
        "plt.plot(hist.history['loss'],'r',linewidth=3.0)\n",
        "plt.plot(hist.history['val_loss'],'b',linewidth=3.0)\n",
        "plt.legend(['Training loss', 'Validation Loss'],fontsize=18)\n",
        "plt.xlabel('Epochs ',fontsize=16)\n",
        "plt.ylabel('Loss',fontsize=16)\n",
        "plt.title('Loss Curves',fontsize=16)"
      ]
    },
    {
      "cell_type": "code",
      "execution_count": null,
      "metadata": {
        "id": "k9afNB2JK45r"
      },
      "outputs": [],
      "source": [
        "#Test the performance of our model on non-augmented images"
      ]
    },
    {
      "cell_type": "code",
      "execution_count": null,
      "metadata": {
        "id": "CsLIF2KwaUzV"
      },
      "outputs": [],
      "source": [
        "checkpoint_path2 = 'best_model2.h5'\n",
        "chp2 = keras.callbacks.ModelCheckpoint(checkpoint_path2, save_best_only=True)"
      ]
    },
    {
      "cell_type": "code",
      "execution_count": null,
      "metadata": {
        "colab": {
          "base_uri": "https://localhost:8080/"
        },
        "id": "g_pmLsarYRF6",
        "outputId": "051e1775-4e63-49d9-9009-c66b248cd632"
      },
      "outputs": [
        {
          "name": "stdout",
          "output_type": "stream",
          "text": [
            "Epoch 1/100\n",
            "140/140 [==============================] - 13s 15ms/step - loss: 1.0584 - accuracy: 0.5020 - val_loss: 1.0447 - val_accuracy: 0.4932\n",
            "Epoch 2/100\n",
            "140/140 [==============================] - 2s 14ms/step - loss: 1.0405 - accuracy: 0.4929 - val_loss: 1.0417 - val_accuracy: 0.4932\n",
            "Epoch 3/100\n",
            "140/140 [==============================] - 2s 13ms/step - loss: 1.0451 - accuracy: 0.5000 - val_loss: 1.0377 - val_accuracy: 0.4932\n",
            "Epoch 4/100\n",
            "140/140 [==============================] - 2s 13ms/step - loss: 1.0370 - accuracy: 0.5029 - val_loss: 1.0319 - val_accuracy: 0.4932\n",
            "Epoch 5/100\n",
            "140/140 [==============================] - 2s 13ms/step - loss: 1.0347 - accuracy: 0.5029 - val_loss: 1.0271 - val_accuracy: 0.4932\n",
            "Epoch 6/100\n",
            "140/140 [==============================] - 2s 14ms/step - loss: 1.0220 - accuracy: 0.5042 - val_loss: 1.0154 - val_accuracy: 0.4979\n",
            "Epoch 7/100\n",
            "140/140 [==============================] - 2s 13ms/step - loss: 1.0188 - accuracy: 0.5045 - val_loss: 1.0049 - val_accuracy: 0.4964\n",
            "Epoch 8/100\n",
            "140/140 [==============================] - 2s 16ms/step - loss: 0.9891 - accuracy: 0.5208 - val_loss: 0.9855 - val_accuracy: 0.5344\n",
            "Epoch 9/100\n",
            "140/140 [==============================] - 2s 13ms/step - loss: 0.9766 - accuracy: 0.5239 - val_loss: 0.9613 - val_accuracy: 0.5182\n",
            "Epoch 10/100\n",
            "140/140 [==============================] - 2s 13ms/step - loss: 0.9535 - accuracy: 0.5337 - val_loss: 0.9460 - val_accuracy: 0.5391\n",
            "Epoch 11/100\n",
            "140/140 [==============================] - 2s 13ms/step - loss: 0.9341 - accuracy: 0.5444 - val_loss: 0.9336 - val_accuracy: 0.5266\n",
            "Epoch 12/100\n",
            "140/140 [==============================] - 2s 13ms/step - loss: 0.9131 - accuracy: 0.5576 - val_loss: 0.9152 - val_accuracy: 0.5641\n",
            "Epoch 13/100\n",
            "140/140 [==============================] - 2s 15ms/step - loss: 0.8996 - accuracy: 0.5754 - val_loss: 0.9085 - val_accuracy: 0.5589\n",
            "Epoch 14/100\n",
            "140/140 [==============================] - 2s 16ms/step - loss: 0.8829 - accuracy: 0.5750 - val_loss: 0.8948 - val_accuracy: 0.5766\n",
            "Epoch 15/100\n",
            "140/140 [==============================] - 2s 14ms/step - loss: 0.8651 - accuracy: 0.5806 - val_loss: 0.8675 - val_accuracy: 0.5865\n",
            "Epoch 16/100\n",
            "140/140 [==============================] - 2s 13ms/step - loss: 0.8508 - accuracy: 0.5984 - val_loss: 0.8485 - val_accuracy: 0.5990\n",
            "Epoch 17/100\n",
            "140/140 [==============================] - 2s 13ms/step - loss: 0.8382 - accuracy: 0.6083 - val_loss: 0.8437 - val_accuracy: 0.6094\n",
            "Epoch 18/100\n",
            "140/140 [==============================] - 2s 13ms/step - loss: 0.8062 - accuracy: 0.6154 - val_loss: 0.8742 - val_accuracy: 0.5932\n",
            "Epoch 19/100\n",
            "140/140 [==============================] - 2s 13ms/step - loss: 0.7836 - accuracy: 0.6451 - val_loss: 0.8399 - val_accuracy: 0.6115\n",
            "Epoch 20/100\n",
            "140/140 [==============================] - 2s 13ms/step - loss: 0.7631 - accuracy: 0.6502 - val_loss: 0.8380 - val_accuracy: 0.6182\n",
            "Epoch 21/100\n",
            "140/140 [==============================] - 2s 13ms/step - loss: 0.7423 - accuracy: 0.6679 - val_loss: 0.7445 - val_accuracy: 0.6542\n",
            "Epoch 22/100\n",
            "140/140 [==============================] - 2s 13ms/step - loss: 0.7378 - accuracy: 0.6585 - val_loss: 0.7893 - val_accuracy: 0.6224\n",
            "Epoch 23/100\n",
            "140/140 [==============================] - 2s 13ms/step - loss: 0.7024 - accuracy: 0.6797 - val_loss: 0.7561 - val_accuracy: 0.6516\n",
            "Epoch 24/100\n",
            "140/140 [==============================] - 2s 12ms/step - loss: 0.6923 - accuracy: 0.6960 - val_loss: 0.7705 - val_accuracy: 0.6479\n",
            "Epoch 25/100\n",
            "140/140 [==============================] - 2s 14ms/step - loss: 0.6643 - accuracy: 0.7036 - val_loss: 0.6948 - val_accuracy: 0.6875\n",
            "Epoch 26/100\n",
            "140/140 [==============================] - 2s 13ms/step - loss: 0.6521 - accuracy: 0.7109 - val_loss: 0.7252 - val_accuracy: 0.6411\n",
            "Epoch 27/100\n",
            "140/140 [==============================] - 2s 13ms/step - loss: 0.6245 - accuracy: 0.7272 - val_loss: 0.6631 - val_accuracy: 0.6917\n",
            "Epoch 28/100\n",
            "140/140 [==============================] - 2s 13ms/step - loss: 0.6124 - accuracy: 0.7297 - val_loss: 0.6299 - val_accuracy: 0.7161\n",
            "Epoch 29/100\n",
            "140/140 [==============================] - 2s 13ms/step - loss: 0.5957 - accuracy: 0.7388 - val_loss: 0.6779 - val_accuracy: 0.6818\n",
            "Epoch 30/100\n",
            "140/140 [==============================] - 2s 13ms/step - loss: 0.5911 - accuracy: 0.7429 - val_loss: 0.6550 - val_accuracy: 0.6833\n",
            "Epoch 31/100\n",
            "140/140 [==============================] - 2s 13ms/step - loss: 0.5781 - accuracy: 0.7549 - val_loss: 0.6967 - val_accuracy: 0.6922\n",
            "Epoch 32/100\n",
            "140/140 [==============================] - 2s 13ms/step - loss: 0.5711 - accuracy: 0.7576 - val_loss: 0.5972 - val_accuracy: 0.7307\n",
            "Epoch 33/100\n",
            "140/140 [==============================] - 2s 13ms/step - loss: 0.5363 - accuracy: 0.7750 - val_loss: 0.5690 - val_accuracy: 0.7422\n",
            "Epoch 34/100\n",
            "140/140 [==============================] - 2s 13ms/step - loss: 0.5180 - accuracy: 0.7777 - val_loss: 0.5679 - val_accuracy: 0.7526\n",
            "Epoch 35/100\n",
            "140/140 [==============================] - 2s 13ms/step - loss: 0.5239 - accuracy: 0.7766 - val_loss: 0.5348 - val_accuracy: 0.7667\n",
            "Epoch 36/100\n",
            "140/140 [==============================] - 2s 13ms/step - loss: 0.4928 - accuracy: 0.7951 - val_loss: 0.5424 - val_accuracy: 0.7693\n",
            "Epoch 37/100\n",
            "140/140 [==============================] - 2s 13ms/step - loss: 0.4723 - accuracy: 0.8040 - val_loss: 0.5056 - val_accuracy: 0.7724\n",
            "Epoch 38/100\n",
            "140/140 [==============================] - 2s 13ms/step - loss: 0.4579 - accuracy: 0.8078 - val_loss: 0.4841 - val_accuracy: 0.7995\n",
            "Epoch 39/100\n",
            "140/140 [==============================] - 2s 14ms/step - loss: 0.4378 - accuracy: 0.8181 - val_loss: 0.4690 - val_accuracy: 0.8016\n",
            "Epoch 40/100\n",
            "140/140 [==============================] - 2s 14ms/step - loss: 0.4494 - accuracy: 0.8170 - val_loss: 0.4685 - val_accuracy: 0.7896\n",
            "Epoch 41/100\n",
            "140/140 [==============================] - 2s 13ms/step - loss: 0.4196 - accuracy: 0.8295 - val_loss: 0.4785 - val_accuracy: 0.7927\n",
            "Epoch 42/100\n",
            "140/140 [==============================] - 2s 14ms/step - loss: 0.3990 - accuracy: 0.8415 - val_loss: 0.4511 - val_accuracy: 0.8026\n",
            "Epoch 43/100\n",
            "140/140 [==============================] - 2s 14ms/step - loss: 0.3976 - accuracy: 0.8406 - val_loss: 0.4259 - val_accuracy: 0.8245\n",
            "Epoch 44/100\n",
            "140/140 [==============================] - 2s 14ms/step - loss: 0.3859 - accuracy: 0.8433 - val_loss: 0.4219 - val_accuracy: 0.8167\n",
            "Epoch 45/100\n",
            "140/140 [==============================] - 2s 13ms/step - loss: 0.3656 - accuracy: 0.8569 - val_loss: 0.3928 - val_accuracy: 0.8297\n",
            "Epoch 46/100\n",
            "140/140 [==============================] - 2s 13ms/step - loss: 0.3551 - accuracy: 0.8594 - val_loss: 0.3687 - val_accuracy: 0.8568\n",
            "Epoch 47/100\n",
            "140/140 [==============================] - 2s 13ms/step - loss: 0.3335 - accuracy: 0.8667 - val_loss: 0.3946 - val_accuracy: 0.8438\n",
            "Epoch 48/100\n",
            "140/140 [==============================] - 2s 13ms/step - loss: 0.3279 - accuracy: 0.8661 - val_loss: 0.3857 - val_accuracy: 0.8359\n",
            "Epoch 49/100\n",
            "140/140 [==============================] - 2s 14ms/step - loss: 0.3312 - accuracy: 0.8699 - val_loss: 0.3419 - val_accuracy: 0.8677\n",
            "Epoch 50/100\n",
            "140/140 [==============================] - 2s 13ms/step - loss: 0.3082 - accuracy: 0.8828 - val_loss: 0.3581 - val_accuracy: 0.8568\n",
            "Epoch 51/100\n",
            "140/140 [==============================] - 2s 14ms/step - loss: 0.3016 - accuracy: 0.8835 - val_loss: 0.3344 - val_accuracy: 0.8651\n",
            "Epoch 52/100\n",
            "140/140 [==============================] - 2s 14ms/step - loss: 0.2891 - accuracy: 0.8879 - val_loss: 0.3020 - val_accuracy: 0.8875\n",
            "Epoch 53/100\n",
            "140/140 [==============================] - 2s 13ms/step - loss: 0.2829 - accuracy: 0.8933 - val_loss: 0.3140 - val_accuracy: 0.8896\n",
            "Epoch 54/100\n",
            "140/140 [==============================] - 2s 13ms/step - loss: 0.2664 - accuracy: 0.8924 - val_loss: 0.3645 - val_accuracy: 0.8443\n",
            "Epoch 55/100\n",
            "140/140 [==============================] - 2s 14ms/step - loss: 0.2539 - accuracy: 0.9025 - val_loss: 0.2927 - val_accuracy: 0.8828\n",
            "Epoch 56/100\n",
            "140/140 [==============================] - 2s 13ms/step - loss: 0.2517 - accuracy: 0.8996 - val_loss: 0.2850 - val_accuracy: 0.8922\n",
            "Epoch 57/100\n",
            "140/140 [==============================] - 2s 13ms/step - loss: 0.2475 - accuracy: 0.9065 - val_loss: 0.2932 - val_accuracy: 0.8849\n",
            "Epoch 58/100\n",
            "140/140 [==============================] - 2s 13ms/step - loss: 0.2250 - accuracy: 0.9152 - val_loss: 0.2872 - val_accuracy: 0.8870\n",
            "Epoch 59/100\n",
            "140/140 [==============================] - 2s 14ms/step - loss: 0.2208 - accuracy: 0.9167 - val_loss: 0.2640 - val_accuracy: 0.9052\n",
            "Epoch 60/100\n",
            "140/140 [==============================] - 2s 14ms/step - loss: 0.2302 - accuracy: 0.9096 - val_loss: 0.2446 - val_accuracy: 0.9151\n",
            "Epoch 61/100\n",
            "140/140 [==============================] - 2s 13ms/step - loss: 0.1896 - accuracy: 0.9359 - val_loss: 0.2199 - val_accuracy: 0.9208\n",
            "Epoch 62/100\n",
            "140/140 [==============================] - 2s 13ms/step - loss: 0.1946 - accuracy: 0.9263 - val_loss: 0.2235 - val_accuracy: 0.9224\n",
            "Epoch 63/100\n",
            "140/140 [==============================] - 2s 14ms/step - loss: 0.1834 - accuracy: 0.9312 - val_loss: 0.2078 - val_accuracy: 0.9281\n",
            "Epoch 64/100\n",
            "140/140 [==============================] - 2s 13ms/step - loss: 0.1995 - accuracy: 0.9208 - val_loss: 0.2058 - val_accuracy: 0.9297\n",
            "Epoch 65/100\n",
            "140/140 [==============================] - 2s 14ms/step - loss: 0.1742 - accuracy: 0.9391 - val_loss: 0.1974 - val_accuracy: 0.9349\n",
            "Epoch 66/100\n",
            "140/140 [==============================] - 2s 13ms/step - loss: 0.1671 - accuracy: 0.9364 - val_loss: 0.2030 - val_accuracy: 0.9302\n",
            "Epoch 67/100\n",
            "140/140 [==============================] - 2s 13ms/step - loss: 0.1660 - accuracy: 0.9375 - val_loss: 0.2746 - val_accuracy: 0.8990\n",
            "Epoch 68/100\n",
            "140/140 [==============================] - 2s 14ms/step - loss: 0.1546 - accuracy: 0.9451 - val_loss: 0.1871 - val_accuracy: 0.9354\n",
            "Epoch 69/100\n",
            "140/140 [==============================] - 2s 13ms/step - loss: 0.1512 - accuracy: 0.9440 - val_loss: 0.1886 - val_accuracy: 0.9385\n",
            "Epoch 70/100\n",
            "140/140 [==============================] - 2s 13ms/step - loss: 0.1606 - accuracy: 0.9417 - val_loss: 0.2120 - val_accuracy: 0.9219\n",
            "Epoch 71/100\n",
            "140/140 [==============================] - 2s 14ms/step - loss: 0.1459 - accuracy: 0.9491 - val_loss: 0.1728 - val_accuracy: 0.9448\n",
            "Epoch 72/100\n",
            "140/140 [==============================] - 2s 13ms/step - loss: 0.1411 - accuracy: 0.9513 - val_loss: 0.2016 - val_accuracy: 0.9312\n",
            "Epoch 73/100\n",
            "140/140 [==============================] - 2s 13ms/step - loss: 0.1262 - accuracy: 0.9563 - val_loss: 0.1583 - val_accuracy: 0.9479\n",
            "Epoch 74/100\n",
            "140/140 [==============================] - 2s 14ms/step - loss: 0.1202 - accuracy: 0.9583 - val_loss: 0.1465 - val_accuracy: 0.9552\n",
            "Epoch 75/100\n",
            "140/140 [==============================] - 2s 13ms/step - loss: 0.1197 - accuracy: 0.9551 - val_loss: 0.1490 - val_accuracy: 0.9479\n",
            "Epoch 76/100\n",
            "140/140 [==============================] - 2s 13ms/step - loss: 0.1170 - accuracy: 0.9603 - val_loss: 0.1494 - val_accuracy: 0.9500\n",
            "Epoch 77/100\n",
            "140/140 [==============================] - 2s 13ms/step - loss: 0.1305 - accuracy: 0.9502 - val_loss: 0.1479 - val_accuracy: 0.9521\n",
            "Epoch 78/100\n",
            "140/140 [==============================] - 2s 13ms/step - loss: 0.1139 - accuracy: 0.9629 - val_loss: 0.1590 - val_accuracy: 0.9490\n",
            "Epoch 79/100\n",
            "140/140 [==============================] - 2s 13ms/step - loss: 0.1149 - accuracy: 0.9607 - val_loss: 0.1534 - val_accuracy: 0.9500\n",
            "Epoch 79: early stopping\n"
          ]
        }
      ],
      "source": [
        "hist2 = model2.fit(np.array(X_train), np.array(y_train),validation_data=(np.array(X_test), np.array(y_test)),epochs=100, batch_size=32, verbose=1, callbacks=[chp2, es])"
      ]
    },
    {
      "cell_type": "code",
      "execution_count": null,
      "metadata": {
        "colab": {
          "base_uri": "https://localhost:8080/"
        },
        "id": "Orq-KiYKYRAc",
        "outputId": "3634508d-c4f5-446e-f14e-2f14547f8d47"
      },
      "outputs": [
        {
          "name": "stdout",
          "output_type": "stream",
          "text": [
            "60/60 [==============================] - 0s 6ms/step - loss: 0.1534 - accuracy: 0.9500\n"
          ]
        }
      ],
      "source": [
        "loss, accuracy = model2.evaluate(X_test, y_test)"
      ]
    },
    {
      "cell_type": "code",
      "execution_count": null,
      "metadata": {
        "colab": {
          "base_uri": "https://localhost:8080/",
          "height": 428
        },
        "id": "bG-o4O4iZAMP",
        "outputId": "8abbb402-d6eb-4fe5-d598-fcc70003c9eb"
      },
      "outputs": [
        {
          "data": {
            "text/plain": [
              "Text(0.5, 1.0, 'Loss Curves')"
            ]
          },
          "execution_count": 26,
          "metadata": {},
          "output_type": "execute_result"
        },
        {
          "data": {
            "image/png": "[encoded data removed]",
            "text/plain": [
              "<Figure size 576x432 with 1 Axes>"
            ]
          },
          "metadata": {
            "needs_background": "light"
          },
          "output_type": "display_data"
        }
      ],
      "source": [
        "plt.figure(figsize=[8,6])\n",
        "plt.plot(hist2.history['loss'],'r',linewidth=3.0)\n",
        "plt.plot(hist2.history['val_loss'],'b',linewidth=3.0)\n",
        "plt.legend(['Training loss', 'Validation Loss'],fontsize=18)\n",
        "plt.xlabel('Epochs ',fontsize=16)\n",
        "plt.ylabel('Loss',fontsize=16)\n",
        "plt.title('Loss Curves',fontsize=16)"
      ]
    },
    {
      "cell_type": "code",
      "execution_count": null,
      "metadata": {
        "colab": {
          "base_uri": "https://localhost:8080/"
        },
        "id": "yWQX8cC-4WKt",
        "outputId": "965f2a54-0c5c-4373-d368-34be3441cc8c"
      },
      "outputs": [
        {
          "name": "stderr",
          "output_type": "stream",
          "text": [
            "/usr/local/lib/python3.7/dist-packages/ipykernel_launcher.py:8: DeprecationWarning: elementwise comparison failed; this will raise an error in the future.\n",
            "  \n",
            "/usr/local/lib/python3.7/dist-packages/ipykernel_launcher.py:9: DeprecationWarning: elementwise comparison failed; this will raise an error in the future.\n",
            "  if __name__ == '__main__':\n"
          ]
        }
      ],
      "source": [
        "## Print predictions \n",
        "\n",
        "X_test = X_test.reshape(X_test.shape[0], 128, 128, 1)\n",
        "predict_x=model_final.predict(X_test) \n",
        "predicted_classes=np.argmax(predict_x,axis=1)\n",
        "\n",
        "\n",
        "# Check which items we got right / wrong\n",
        "correct_indices = np.nonzero(predicted_classes == y_test)[0]\n",
        "incorrect_indices = np.nonzero(predicted_classes != y_test)[0]\n",
        "\n",
        "#print(correct_indices)\n",
        "#print(incorrect_indices)"
      ]
    },
    {
      "cell_type": "code",
      "execution_count": null,
      "metadata": {
        "colab": {
          "base_uri": "https://localhost:8080/",
          "height": 241
        },
        "id": "9jnjTZiM5mM5",
        "outputId": "2116b09b-7807-4be7-a69f-9fdd53ad140a"
      },
      "outputs": [
        {
          "data": {
            "text/plain": [
              "<Figure size 720x720 with 0 Axes>"
            ]
          },
          "metadata": {},
          "output_type": "display_data"
        },
        {
          "data": {
            "image/png": "[encoded data removed]",
            "text/plain": [
              "<Figure size 720x720 with 1 Axes>"
            ]
          },
          "metadata": {
            "needs_background": "light"
          },
          "output_type": "display_data"
        }
      ],
      "source": [
        "#some of the correct results\n",
        "plt.figure(figsize=(10,10))\n",
        "for i, correct in enumerate(correct_indices[:9]):\n",
        "    plt.subplot(3,3,i+1)\n",
        "    plt.imshow(X_test[correct].reshape(128,128), cmap='gray', interpolation='none')\n",
        "    plt.title(\"Predicted {}, Class {}\".format(predicted_classes[correct], y_test[correct]))\n",
        "    \n",
        "#some of the incorrect predictions\n",
        "plt.figure(figsize=(10,10))\n",
        "for i, incorrect in enumerate(incorrect_indices[:9]):\n",
        "    plt.subplot(3,3,i+1)\n",
        "    plt.imshow(X_test[incorrect].reshape(128,128), cmap='gray', interpolation='none')\n",
        "    plt.title(\"Predicted {}, Class {}\".format(predicted_classes[incorrect], y_test[incorrect]))"
      ]
    },
    {
      "cell_type": "markdown",
      "metadata": {
        "id": "j_yJdUy1v7YQ"
      },
      "source": [
        "## VGG 16 Model "
      ]
    },
    {
      "cell_type": "code",
      "execution_count": null,
      "metadata": {
        "id": "zQzQwUSf5qco"
      },
      "outputs": [],
      "source": [
        "model = keras.applications.VGG16(weights = None, include_top=False, input_shape = (128, 128, 1))\n",
        "## Freeze all layers\n",
        "for layer in model.layers[:20]:\n",
        "    layer.trainable = False\n",
        "\n",
        "x = model.output\n",
        "x = Flatten()(x)\n",
        "x = Dense(512, activation=\"relu\")(x)\n",
        "x = Dropout(0.2)(x)\n",
        "predictions = Dense(num_classes, activation=\"softmax\")(x)\n",
        "\n",
        "# creating the final model \n",
        "model_final = Model(model.input, predictions)\n",
        "\n",
        "# compile the model \n",
        "model_final.compile(loss = \"categorical_crossentropy\", optimizer = 'adam', metrics=[\"accuracy\"])\n",
        "\n",
        "checkpoint_path3 = 'best_model_vgg16.h5'\n",
        "chp3 = keras.callbacks.ModelCheckpoint(checkpoint_path3, save_best_only=True)"
      ]
    },
    {
      "cell_type": "code",
      "execution_count": null,
      "metadata": {
        "colab": {
          "base_uri": "https://localhost:8080/"
        },
        "id": "0cnsym0BtF0L",
        "outputId": "c67df835-9981-47e9-f419-93342e3e0e6c"
      },
      "outputs": [
        {
          "name": "stdout",
          "output_type": "stream",
          "text": [
            "Model: \"model_1\"\n",
            "_________________________________________________________________\n",
            " Layer (type)                Output Shape              Param #   \n",
            "=================================================================\n",
            " input_1 (InputLayer)        [(None, 128, 128, 1)]     0         \n",
            "                                                                 \n",
            " block1_conv1 (Conv2D)       (None, 128, 128, 64)      640       \n",
            "                                                                 \n",
            " block1_conv2 (Conv2D)       (None, 128, 128, 64)      36928     \n",
            "                                                                 \n",
            " block1_pool (MaxPooling2D)  (None, 64, 64, 64)        0         \n",
            "                                                                 \n",
            " block2_conv1 (Conv2D)       (None, 64, 64, 128)       73856     \n",
            "                                                                 \n",
            " block2_conv2 (Conv2D)       (None, 64, 64, 128)       147584    \n",
            "                                                                 \n",
            " block2_pool (MaxPooling2D)  (None, 32, 32, 128)       0         \n",
            "                                                                 \n",
            " block3_conv1 (Conv2D)       (None, 32, 32, 256)       295168    \n",
            "                                                                 \n",
            " block3_conv2 (Conv2D)       (None, 32, 32, 256)       590080    \n",
            "                                                                 \n",
            " block3_conv3 (Conv2D)       (None, 32, 32, 256)       590080    \n",
            "                                                                 \n",
            " block3_pool (MaxPooling2D)  (None, 16, 16, 256)       0         \n",
            "                                                                 \n",
            " block4_conv1 (Conv2D)       (None, 16, 16, 512)       1180160   \n",
            "                                                                 \n",
            " block4_conv2 (Conv2D)       (None, 16, 16, 512)       2359808   \n",
            "                                                                 \n",
            " block4_conv3 (Conv2D)       (None, 16, 16, 512)       2359808   \n",
            "                                                                 \n",
            " block4_pool (MaxPooling2D)  (None, 8, 8, 512)         0         \n",
            "                                                                 \n",
            " block5_conv1 (Conv2D)       (None, 8, 8, 512)         2359808   \n",
            "                                                                 \n",
            " block5_conv2 (Conv2D)       (None, 8, 8, 512)         2359808   \n",
            "                                                                 \n",
            " block5_conv3 (Conv2D)       (None, 8, 8, 512)         2359808   \n",
            "                                                                 \n",
            " block5_pool (MaxPooling2D)  (None, 4, 4, 512)         0         \n",
            "                                                                 \n",
            " flatten_1 (Flatten)         (None, 8192)              0         \n",
            "                                                                 \n",
            " dense_2 (Dense)             (None, 512)               4194816   \n",
            "                                                                 \n",
            " dropout_1 (Dropout)         (None, 512)               0         \n",
            "                                                                 \n",
            " dense_3 (Dense)             (None, 4)                 2052      \n",
            "                                                                 \n",
            "=================================================================\n",
            "Total params: 18,910,404\n",
            "Trainable params: 4,196,868\n",
            "Non-trainable params: 14,713,536\n",
            "_________________________________________________________________\n"
          ]
        }
      ],
      "source": [
        "model_final.summary()"
      ]
    },
    {
      "cell_type": "code",
      "execution_count": null,
      "metadata": {
        "colab": {
          "base_uri": "https://localhost:8080/"
        },
        "id": "PfCY9Okks5Ot",
        "outputId": "cd24777e-6820-4ff8-e61d-78c9b1f82204"
      },
      "outputs": [
        {
          "name": "stdout",
          "output_type": "stream",
          "text": [
            "Epoch 1/10\n",
            "35/35 [==============================] - 1047s 30s/step - loss: 1.1473 - accuracy: 0.4862 - val_loss: 1.0442 - val_accuracy: 0.5125\n",
            "Epoch 2/10\n",
            "35/35 [==============================] - 1040s 30s/step - loss: 1.0408 - accuracy: 0.4949 - val_loss: 1.0366 - val_accuracy: 0.5125\n",
            "Epoch 3/10\n",
            "35/35 [==============================] - 1040s 30s/step - loss: 1.0388 - accuracy: 0.4946 - val_loss: 1.0382 - val_accuracy: 0.5125\n",
            "Epoch 4/10\n",
            "35/35 [==============================] - 1038s 30s/step - loss: 1.0366 - accuracy: 0.4944 - val_loss: 1.0386 - val_accuracy: 0.5125\n",
            "Epoch 5/10\n",
            "35/35 [==============================] - 1042s 30s/step - loss: 1.0368 - accuracy: 0.4949 - val_loss: 1.0391 - val_accuracy: 0.5125\n",
            "Epoch 6/10\n",
            "35/35 [==============================] - 1040s 30s/step - loss: 1.0383 - accuracy: 0.4946 - val_loss: 1.0413 - val_accuracy: 0.5125\n",
            "Epoch 7/10\n",
            "35/35 [==============================] - 1041s 30s/step - loss: 1.0395 - accuracy: 0.4920 - val_loss: 1.0420 - val_accuracy: 0.5125\n",
            "Epoch 7: early stopping\n"
          ]
        }
      ],
      "source": [
        "# Fit model\n",
        "epochs = 10 #0\n",
        "batch_size=128\n",
        "history = model_final.fit(X_train, y_train, \n",
        "                    batch_size=batch_size, epochs=epochs,verbose=1,\n",
        "                    validation_data=(X_test,y_test),shuffle=True, callbacks = [chp3, es])"
      ]
    },
    {
      "cell_type": "code",
      "execution_count": null,
      "metadata": {
        "colab": {
          "base_uri": "https://localhost:8080/"
        },
        "id": "ckqqPtngxJrh",
        "outputId": "173b3380-0ad2-4255-d51a-1755b83144c5"
      },
      "outputs": [
        {
          "name": "stdout",
          "output_type": "stream",
          "text": [
            "60/60 [==============================] - 327s 5s/step - loss: 1.0420 - accuracy: 0.5125\n"
          ]
        }
      ],
      "source": [
        "loss, accuracy = model_final.evaluate(X_test, y_test)"
      ]
    },
    {
      "cell_type": "code",
      "execution_count": null,
      "metadata": {
        "colab": {
          "base_uri": "https://localhost:8080/",
          "height": 428
        },
        "id": "hJxRSoHbKtE8",
        "outputId": "6dc96e86-5028-476f-e4b0-57af9d2fbacd"
      },
      "outputs": [
        {
          "data": {
            "text/plain": [
              "Text(0.5, 1.0, 'Loss Curves')"
            ]
          },
          "execution_count": 31,
          "metadata": {},
          "output_type": "execute_result"
        },
        {
          "data": {
            "image/png": "[encoded data removed]",
            "text/plain": [
              "<Figure size 576x432 with 1 Axes>"
            ]
          },
          "metadata": {
            "needs_background": "light"
          },
          "output_type": "display_data"
        }
      ],
      "source": [
        "plt.figure(figsize=[8,6])\n",
        "plt.plot(history.history['loss'],'r',linewidth=3.0)\n",
        "plt.plot(history.history['val_loss'],'b',linewidth=3.0)\n",
        "plt.legend(['Training loss', 'Validation Loss'],fontsize=18)\n",
        "plt.xlabel('Epochs ',fontsize=16)\n",
        "plt.ylabel('Loss',fontsize=16)\n",
        "plt.title('Loss Curves',fontsize=16)"
      ]
    }
  ],
  "metadata": {
    "accelerator": "GPU",
    "colab": {
      "collapsed_sections": [],
      "include_colab_link": true,
      "name": "Team1_Project_Notebook1.ipynb",
      "provenance": []
    },
    "kernelspec": {
      "display_name": "Python 3 (ipykernel)",
      "language": "python",
      "name": "python3"
    },
    "language_info": {
      "codemirror_mode": {
        "name": "ipython",
        "version": 3
      },
      "file_extension": ".py",
      "mimetype": "text/x-python",
      "name": "python",
      "nbconvert_exporter": "python",
      "pygments_lexer": "ipython3",
      "version": "3.9.10"
    }
  },
  "nbformat": 4,
  "nbformat_minor": 0
}
